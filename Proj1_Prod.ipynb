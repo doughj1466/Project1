{
 "cells": [
  {
   "cell_type": "code",
   "execution_count": null,
   "id": "12d4a6c6-4aac-4c91-aca3-57c461fa8fb0",
   "metadata": {
    "tags": []
   },
   "outputs": [],
   "source": [
    "import yfinance as yf\n",
    "import matplotlib.pyplot as plt\n",
    "import pandas as pd\n",
    "import hvplot.pandas\n",
    "import plotly.express as px\n",
    "import numpy as np\n",
    "from pypfopt.efficient_frontier import EfficientFrontier\n",
    "from pypfopt import  risk_models\n",
    "from pypfopt import expected_returns\n",
    "from pypfopt.discrete_allocation import DiscreteAllocation, get_latest_prices\n",
    "from pypfopt import plotting\n",
    "\n",
    "import warnings\n",
    "warnings.filterwarnings(\"ignore\")\n"
   ]
  },
  {
   "cell_type": "code",
   "execution_count": null,
   "id": "c89e6818-c318-4c2c-9a82-2813cfa90758",
   "metadata": {},
   "outputs": [],
   "source": [
    "#formatting floats to 3 decimals to avoid use of scientific notation\n",
    "pd.options.display.float_format = '{:.3f}'.format"
   ]
  },
  {
   "cell_type": "code",
   "execution_count": null,
   "id": "fb9c4e99-4905-4209-93db-9ca868e6c039",
   "metadata": {
    "tags": []
   },
   "outputs": [],
   "source": [
    "#Defining symbols in our portfolio.\n",
    "tickers = [\"TSLA\", \"BIDU\", \"NVDA\", \"AAL\", \"AMD\", \"WMT\", \"DIS\", \"DHR\", \"PANW\",\"AAPL\",\"MCL.CN\",\"FI\"] "
   ]
  },
  {
   "cell_type": "code",
   "execution_count": null,
   "id": "0006f977-d83d-46a8-8e3f-c759957ec32a",
   "metadata": {
    "tags": []
   },
   "outputs": [],
   "source": [
    "portfolio_creation_date = \"2023-11-13\"\n",
    "portfolio_rebalance_date = \"2023-11-13\""
   ]
  },
  {
   "cell_type": "code",
   "execution_count": null,
   "id": "7e02f861-7f04-461c-b15e-57f62f8b0077",
   "metadata": {
    "tags": []
   },
   "outputs": [],
   "source": [
    "#Downloading 10 years of data from yahoo finance.\n",
    "stock_data = yf.download(tickers, period=\"10y\")"
   ]
  },
  {
   "cell_type": "code",
   "execution_count": null,
   "id": "43da7319-3c52-4651-827d-e00cf84cff33",
   "metadata": {
    "tags": []
   },
   "outputs": [],
   "source": [
    "#putting stock data into a df called prices\n",
    "prices = pd.DataFrame(stock_data[\"Adj Close\"].dropna(how=\"all\"))\n",
    "prices"
   ]
  },
  {
   "cell_type": "code",
   "execution_count": null,
   "id": "e82010eb-5a65-43d3-b8d7-fc1a41b54709",
   "metadata": {
    "tags": []
   },
   "outputs": [],
   "source": [
    "#Quick chart of prices over time for basket of stocks\n",
    "prices[prices.index >= \"2013-01-01\"].plot(figsize=(15,10));"
   ]
  },
  {
   "cell_type": "code",
   "execution_count": null,
   "id": "eec944f2-8be3-4d37-bb9c-278d198a919e",
   "metadata": {
    "tags": []
   },
   "outputs": [],
   "source": [
    "#created a covariance matrix through pyportfolioOpt to compare all stocks to eachother\n",
    "sample_cov = risk_models.sample_cov(prices, frequency=252)\n",
    "sample_cov"
   ]
  },
  {
   "cell_type": "code",
   "execution_count": null,
   "id": "7599f770-bb66-438a-bee1-71a0fb8190ad",
   "metadata": {
    "tags": []
   },
   "outputs": [],
   "source": [
    "#plotted the correlations.  MCL.CN is the interesting product here with low correlation to essentially all other products here.\n",
    "plotting.plot_covariance(sample_cov, plot_correlation=True);"
   ]
  },
  {
   "cell_type": "code",
   "execution_count": null,
   "id": "5ac4cea9-8697-453c-9fbb-8102fb1e6a8f",
   "metadata": {
    "tags": []
   },
   "outputs": [],
   "source": [
    "#Used pyportfolioOpt to find our expected returns per stock using Capital Asset Pricing Model.\n",
    "mu = expected_returns.capm_return(prices)\n",
    "mu"
   ]
  },
  {
   "cell_type": "code",
   "execution_count": null,
   "id": "5e724066-7402-4294-b202-8c04e278d8a7",
   "metadata": {
    "tags": []
   },
   "outputs": [],
   "source": [
    "# Use hvplot.bar to create bar plot with categorical data\n",
    "bar_chart=pd.DataFrame(mu)\n",
    "bar_chart.hvplot.bar(\n",
    "    x=\"index\", \n",
    "    y=\"mkt\", \n",
    "    color=\"green\",\n",
    "    xlabel=\"Ticker\", \n",
    "    ylabel=\"Daily Return\", \n",
    "    title=\"Daily Return\",\n",
    "    rot=90\n",
    ")"
   ]
  },
  {
   "cell_type": "code",
   "execution_count": null,
   "id": "46eb5096-20c4-4aea-9037-b625d4d64095",
   "metadata": {
    "tags": []
   },
   "outputs": [],
   "source": [
    "\n",
    "#PyportfolioOpt finding weights for our optimized portfolio on the efficient frontier\n",
    "S = risk_models.CovarianceShrinkage(prices).ledoit_wolf()\n",
    "ef = EfficientFrontier(mu, S)\n",
    "weights = ef.max_sharpe() #for maximizing the Sharpe ratio #Optimization\n",
    "cleaned_weights = ef.clean_weights() #to clean the raw weights\n",
    "# Get the Keys and store them in a list\n",
    "labels = list(cleaned_weights.keys())\n",
    "# Get the Values and store them in a list\n",
    "values = list(cleaned_weights.values())\n",
    "fig, ax = plt.subplots()\n",
    "ax.pie(values, labels=labels, autopct='%1.0f%%')\n",
    "print('Portfolio Allocation')\n",
    "plt.show(fig)"
   ]
  },
  {
   "cell_type": "code",
   "execution_count": null,
   "id": "df0655d1-a1a2-4b11-a340-631120aac4e3",
   "metadata": {
    "tags": []
   },
   "outputs": [],
   "source": [
    "#Displaying cleaned weights dictionary output\n",
    "cleaned_weights"
   ]
  },
  {
   "cell_type": "code",
   "execution_count": null,
   "id": "b341b7e0-46ed-4082-9e47-d3538740000f",
   "metadata": {
    "tags": []
   },
   "outputs": [],
   "source": [
    "#Taking the cleaned weights and inserting them into a df.  \n",
    "#Named columns and set the index as the Stock column to easily work with additional downstream data.\n",
    "clean_weights_df = pd.DataFrame(list(cleaned_weights.items()), columns=['Stock', 'Weight'])\n",
    "clean_weights_df.set_index(\"Stock\", inplace=True)\n",
    "clean_weights_df"
   ]
  },
  {
   "cell_type": "code",
   "execution_count": null,
   "id": "431d9f24-518d-4337-9e49-a0fb6eed78bc",
   "metadata": {
    "tags": []
   },
   "outputs": [],
   "source": [
    "#Finding the discrete allocation using pyportfolioOpt with prices on a given date, our weights, and portfolio size\n",
    "latest_prices = prices.loc[portfolio_creation_date]  # prices as of the day you are allocating\n",
    "da = DiscreteAllocation(weights, latest_prices, total_portfolio_value=100000)\n",
    "alloc, leftover = da.greedy_portfolio(verbose=False)\n",
    "print(f\"Discrete allocation performed with ${leftover:.2f} leftover\")\n",
    "alloc"
   ]
  },
  {
   "cell_type": "code",
   "execution_count": null,
   "id": "f7298e97-6637-4cb7-94d3-4a1bd17b43b4",
   "metadata": {
    "tags": []
   },
   "outputs": [],
   "source": [
    "ef.portfolio_performance(verbose=True);"
   ]
  },
  {
   "cell_type": "code",
   "execution_count": null,
   "id": "e764f9b0-4b0b-4e6e-a9fb-ed259587ebbe",
   "metadata": {
    "tags": []
   },
   "outputs": [],
   "source": [
    "idx = pd.date_range( start='2013-01-01',end='2023-11-09', freq='M')\n",
    "\n",
    "stock_data_pctchange = prices.pct_change().cumsum()\n",
    "\n",
    "stock_data_pctchange.dropna(how=\"all\")"
   ]
  },
  {
   "cell_type": "code",
   "execution_count": null,
   "id": "3932e3dd-66d4-4744-8c71-e3189bf9c4d8",
   "metadata": {
    "tags": []
   },
   "outputs": [],
   "source": [
    "stock_data_pctchange.hvplot.line(\n",
    "    xlabel=\"Year\", \n",
    "    ylabel=\"Daily Return\",\n",
    "    title=\"Value\"\n",
    ")"
   ]
  },
  {
   "cell_type": "code",
   "execution_count": null,
   "id": "58575d02-fb3c-4895-bb7c-73b49d68be9b",
   "metadata": {},
   "outputs": [],
   "source": [
    "#Taking the allocation dictionary above and inserting it into  df.\n",
    "alloc_df = pd.DataFrame(list(alloc.items()), columns=['Stock', 'Value'])\n",
    "alloc_df.set_index(\"Stock\", inplace=True)\n",
    "alloc_df"
   ]
  },
  {
   "cell_type": "code",
   "execution_count": null,
   "id": "099e4754-03cf-404d-ad26-e7b5a423609d",
   "metadata": {
    "tags": []
   },
   "outputs": [],
   "source": [
    "#Checking current values per given stock\n",
    "current_values = prices.loc[portfolio_rebalance_date] * alloc_df[\"Value\"]\n",
    "current_values"
   ]
  },
  {
   "cell_type": "code",
   "execution_count": null,
   "id": "067aaeba-cd4e-425a-b6f1-d0ee8b3751b3",
   "metadata": {
    "tags": []
   },
   "outputs": [],
   "source": [
    "#Taking the sum\n",
    "current_values_sum = current_values.sum(numeric_only=True)\n",
    "current_values_sum"
   ]
  },
  {
   "cell_type": "code",
   "execution_count": null,
   "id": "4298f075-7d46-4a9a-9c1f-ef29c391afa0",
   "metadata": {
    "tags": []
   },
   "outputs": [],
   "source": [
    "#Adding cash leftover\n",
    "total_value = current_values_sum + leftover\n",
    "total_value"
   ]
  },
  {
   "cell_type": "code",
   "execution_count": null,
   "id": "05cdc5c8-8568-47b3-9c18-07485cdab202",
   "metadata": {
    "tags": []
   },
   "outputs": [],
   "source": [
    "#Getting the daily returns per stock\n",
    "combined_returns_ef = prices.pct_change()\n",
    "combined_returns_ef"
   ]
  },
  {
   "cell_type": "code",
   "execution_count": null,
   "id": "0352639a-33e8-4b66-9e7f-adec392e9f30",
   "metadata": {
    "tags": []
   },
   "outputs": [],
   "source": [
    "#Finding the returns of the optimized portfolio\n",
    "portfolio_returns_ef = combined_returns_ef.dot(clean_weights_df[\"Weight\"])\n",
    "portfolio_returns_ef"
   ]
  },
  {
   "cell_type": "code",
   "execution_count": null,
   "id": "01b4f927-09a5-4503-8089-d5b69e026fb9",
   "metadata": {
    "tags": []
   },
   "outputs": [],
   "source": [
    "#Finding the cumulative returns of the optimized portfolio\n",
    "cumulative_returns_ef = (1 + portfolio_returns_ef).cumprod()\n",
    "cumulative_returns_ef"
   ]
  },
  {
   "cell_type": "code",
   "execution_count": null,
   "id": "3e7edb7a-e833-4066-9cb1-7eff3d31adaf",
   "metadata": {
    "tags": []
   },
   "outputs": [],
   "source": [
    "#Simulating growth of our 100k initial investment\n",
    "investment_ammount = 100000\n",
    "cumulative_profit_ef = investment_ammount * cumulative_returns_ef\n",
    "cumulative_profit_ef.hvplot(\n",
    "    x='Date', \n",
    "    #y='housing_units',\n",
    "    title=\"Cumulative Profit of Optimized Portfolio\",\n",
    "    rot=45,\n",
    "    xlabel='Date', \n",
    "    ylabel='Profit'\n",
    ").opts(yformatter='%.0f')"
   ]
  },
  {
   "cell_type": "code",
   "execution_count": null,
   "id": "5ccb1425-a30c-4604-89a8-e2df0ea00506",
   "metadata": {},
   "outputs": [],
   "source": [
    "#Dictionary of equal weights\n",
    "equal_weights = {'AAL': 0.08333,\n",
    "             'BIDU': 0.08333,\n",
    "             'DHR': 0.08333,\n",
    "             'DIS': 0.08333,\n",
    "             'FI': 0.08333,\n",
    "             'AAPL': 0.08333,\n",
    "             'MCL.CN': 0.08333,\n",
    "             'NVDA': 0.08333,\n",
    "             'PANW': 0.08333,\n",
    "             'AMD': 0.08333,\n",
    "             'TSLA': 0.08333,\n",
    "             'WMT': 0.08333}\n",
    "\n",
    "print(equal_weights)"
   ]
  },
  {
   "cell_type": "code",
   "execution_count": null,
   "id": "a5c79972-167f-40ab-adb9-82222140be93",
   "metadata": {
    "tags": []
   },
   "outputs": [],
   "source": [
    "#Inserting equal weights into a df\n",
    "equal_weights_df = pd.DataFrame(list(equal_weights.items()), columns=['Stock', 'Weight'])\n",
    "equal_weights_df.set_index(\"Stock\", inplace=True)\n",
    "equal_weights_df"
   ]
  },
  {
   "cell_type": "code",
   "execution_count": null,
   "id": "4a277ff5-c779-4056-9351-438f421d914f",
   "metadata": {
    "tags": []
   },
   "outputs": [],
   "source": [
    "#Using PyportfolioOpt again to find allocations for this equal weight portfolio\n",
    "latest_prices = prices.loc[portfolio_creation_date]  # prices as of the day you are allocating\n",
    "da_ew = DiscreteAllocation(equal_weights, latest_prices, total_portfolio_value=100000)\n",
    "alloc_ew, leftover_ew = da_ew.greedy_portfolio(verbose=False)\n",
    "print(f\"Discrete allocation performed with ${leftover_ew:.2f} leftover\")\n",
    "alloc_ew"
   ]
  },
  {
   "cell_type": "code",
   "execution_count": null,
   "id": "b9655f0e-c9b4-4321-a86e-8bf5ca07a09d",
   "metadata": {
    "tags": []
   },
   "outputs": [],
   "source": [
    "#Inserting allocations into a df\n",
    "alloc_ew_df = pd.DataFrame(list(alloc_ew.items()), columns=['Stock', 'Value'])\n",
    "alloc_ew_df.set_index(\"Stock\", inplace=True)\n",
    "alloc_ew_df"
   ]
  },
  {
   "cell_type": "code",
   "execution_count": null,
   "id": "96999fea-2e8a-45c2-ac18-69884af467b4",
   "metadata": {
    "tags": []
   },
   "outputs": [],
   "source": [
    "#Finding the current values per stock\n",
    "current_values_ew = prices.loc[portfolio_rebalance_date] * alloc_ew_df[\"Value\"]\n",
    "current_values_ew"
   ]
  },
  {
   "cell_type": "code",
   "execution_count": null,
   "id": "c13ba317-b89f-422c-bcb8-fb96df6b822c",
   "metadata": {
    "tags": []
   },
   "outputs": [],
   "source": [
    "#Finding the current value of the portfolio\n",
    "current_values_ew_sum = current_values_ew.sum(numeric_only=True)\n",
    "current_values_ew_sum"
   ]
  },
  {
   "cell_type": "code",
   "execution_count": null,
   "id": "86cb70fc-7676-45c9-9e47-cd409131c900",
   "metadata": {
    "tags": []
   },
   "outputs": [],
   "source": [
    "#adding the leftover cash back to get the total value\n",
    "total_value_ew = current_values_ew_sum + leftover_ew\n",
    "total_value_ew"
   ]
  },
  {
   "cell_type": "code",
   "execution_count": null,
   "id": "d40d0fa5-c0fc-4b31-9224-0d506412a854",
   "metadata": {
    "tags": []
   },
   "outputs": [],
   "source": [
    "#Getting returns for our equal weight portfolio\n",
    "combined_returns_ew = prices.pct_change()\n",
    "combined_returns_ew"
   ]
  },
  {
   "cell_type": "code",
   "execution_count": null,
   "id": "9396c61c-39e5-4107-bd81-18a6f7d691a0",
   "metadata": {
    "tags": []
   },
   "outputs": [],
   "source": [
    "#test_weights = [0.0833, 0.0833, 0.0833, 0.0833, 0.0833, 0.0833, 0.0833, 0.0833, 0.0833, 0.0833, 0.0833, 0.0833]\n",
    "portfolio_returns_ew = combined_returns_ew.dot(equal_weights_df)"
   ]
  },
  {
   "cell_type": "code",
   "execution_count": null,
   "id": "081e7150-8d7b-40d8-872e-63fcc13b94bc",
   "metadata": {
    "tags": []
   },
   "outputs": [],
   "source": [
    "#Getting cumulative returns for our equal weight portfolio\n",
    "cumulative_returns_ew = (1 + portfolio_returns_ew).cumprod()\n",
    "cumulative_returns_ew"
   ]
  },
  {
   "cell_type": "code",
   "execution_count": null,
   "id": "c3aa6af1-d82d-4fe4-a096-53f0723b754d",
   "metadata": {
    "tags": []
   },
   "outputs": [],
   "source": [
    "#investment_ammount = 100000\n",
    "cumulative_profit_ew = investment_ammount * cumulative_returns_ew\n",
    "cumulative_profit_ew.hvplot(\n",
    "    x='Date', \n",
    "    #y='housing_units',\n",
    "    title=\"Cumulative Profit of Equal Weight Portfolio\",\n",
    "    rot=45,\n",
    "    xlabel='Date', \n",
    "    ylabel='Profit'\n",
    ").opts(yformatter='%.0f')"
   ]
  },
  {
   "cell_type": "code",
   "execution_count": null,
   "id": "dc4f4ef8-06c4-4f03-ba14-e5ae14923fe0",
   "metadata": {
    "tags": []
   },
   "outputs": [],
   "source": [
    "#Getting 10y data for SPY, our baseline\n",
    "spy = [\"SPY\"] \n",
    "spy_data = yf.download(spy, period=\"10y\")"
   ]
  },
  {
   "cell_type": "code",
   "execution_count": null,
   "id": "0338aa93-0d7d-40fd-8bb5-184cd2bd64fb",
   "metadata": {
    "tags": []
   },
   "outputs": [],
   "source": [
    "#Closing prices for SPY\n",
    "spy_prices = pd.DataFrame(spy_data[\"Adj Close\"].dropna(how=\"all\"))\n",
    "spy_prices.tail()"
   ]
  },
  {
   "cell_type": "code",
   "execution_count": null,
   "id": "5222d729-792e-4c61-95e7-46b7e3b8d5d0",
   "metadata": {
    "tags": []
   },
   "outputs": [],
   "source": [
    "# Calculate Daily Returns\n",
    "daily_returns_spy = spy_prices.pct_change()\n",
    "daily_returns_spy.columns = [\"SPY\"]\n",
    "daily_returns_spy.head()"
   ]
  },
  {
   "cell_type": "code",
   "execution_count": null,
   "id": "1ffab1b3-ce1a-41e2-add1-65b16d3ba110",
   "metadata": {
    "tags": []
   },
   "outputs": [],
   "source": [
    "#SPY cumulative returns\n",
    "cumulative_returns_spy = (1 + daily_returns_spy).cumprod()\n",
    "cumulative_returns_spy.head()"
   ]
  },
  {
   "cell_type": "code",
   "execution_count": null,
   "id": "ee64f8ef-e063-4e49-86ec-f3d6020f1824",
   "metadata": {
    "tags": []
   },
   "outputs": [],
   "source": [
    "#Getting std dev for spy\n",
    "stddev_spy = daily_returns_spy.std()\n",
    "stddev_spy"
   ]
  },
  {
   "cell_type": "code",
   "execution_count": null,
   "id": "7e0e1dbd-e6f3-4581-8063-f2d193d0e55e",
   "metadata": {
    "tags": []
   },
   "outputs": [],
   "source": [
    "#spy std dev annualized\n",
    "stddev_annualized_spy = stddev_spy * np.sqrt(252)\n",
    "stddev_annualized_spy"
   ]
  },
  {
   "cell_type": "code",
   "execution_count": null,
   "id": "c7aa597e-787b-4246-96c4-62e96be87614",
   "metadata": {
    "tags": []
   },
   "outputs": [],
   "source": [
    "#Calculating SPY Sharpe Ratio\n",
    "sharpe_ratio_spy = (daily_returns_spy.mean() * 252) / (stddev_annualized_spy)\n",
    "sharpe_ratio_spy"
   ]
  },
  {
   "cell_type": "code",
   "execution_count": null,
   "id": "76af33a8-b647-4ede-8220-3cb883790f3e",
   "metadata": {
    "tags": []
   },
   "outputs": [],
   "source": [
    "#SPY expected returns\n",
    "mu_spy = expected_returns.capm_return(spy_prices)\n",
    "mu_spy"
   ]
  },
  {
   "cell_type": "code",
   "execution_count": null,
   "id": "79377745-eb06-4fd9-bc9d-656463ee87b9",
   "metadata": {
    "tags": []
   },
   "outputs": [],
   "source": [
    "cumulative_profit_spy = investment_ammount * cumulative_returns_spy\n",
    "cumulative_profit_spy.hvplot(\n",
    "    x='Date', \n",
    "    #y='housing_units',\n",
    "    title=\"Cumulative Profit of the SP500 using SPY\",\n",
    "    rot=45,\n",
    "    xlabel='Date', \n",
    "    ylabel='Profit'\n",
    ").opts(yformatter='%.0f')"
   ]
  },
  {
   "cell_type": "code",
   "execution_count": null,
   "id": "c8da7b4b-e4cc-47dd-bbef-d9b52129a8c7",
   "metadata": {
    "tags": []
   },
   "outputs": [],
   "source": [
    "#Combining the 3 portfolios to 1 df to better display results\n",
    "combined_df = pd.concat([cumulative_profit_ef,cumulative_profit_ew,cumulative_profit_spy], axis='columns', join='inner')\n",
    "combined_df.columns = [\"Optimized\", \"Equal Weight\",\"SPY\"]\n",
    "combined_df"
   ]
  },
  {
   "cell_type": "code",
   "execution_count": null,
   "id": "f8447910-f01c-4a65-a49c-7fc613109d56",
   "metadata": {
    "tags": []
   },
   "outputs": [],
   "source": [
    "combined_df.hvplot(\n",
    "    x='Date', \n",
    "    #y='housing_units',\n",
    "    title=\"Cumulative Profits Compared\",\n",
    "    rot=45,\n",
    "    xlabel='Date', \n",
    "    ylabel='Profit'\n",
    ").opts(yformatter='%.0f')"
   ]
  }
 ],
 "metadata": {
  "kernelspec": {
   "display_name": "Python 3 (ipykernel)",
   "language": "python",
   "name": "python3"
  },
  "language_info": {
   "codemirror_mode": {
    "name": "ipython",
    "version": 3
   },
   "file_extension": ".py",
   "mimetype": "text/x-python",
   "name": "python",
   "nbconvert_exporter": "python",
   "pygments_lexer": "ipython3",
   "version": "3.11.4"
  }
 },
 "nbformat": 4,
 "nbformat_minor": 5
}
